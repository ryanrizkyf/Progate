{
 "cells": [
  {
   "cell_type": "markdown",
   "metadata": {},
   "source": [
    "# 2. Function"
   ]
  },
  {
   "cell_type": "markdown",
   "metadata": {},
   "source": [
    "# Function"
   ]
  },
  {
   "cell_type": "code",
   "execution_count": 1,
   "metadata": {},
   "outputs": [],
   "source": [
    "# Definisikan function print_hand \n",
    "def print_hand():\n",
    "    print('Anda memilih: Batu')\n",
    "# Panggil function print_hand \n",
    "print_hand()"
   ]
  },
  {
   "cell_type": "markdown",
   "metadata": {},
   "source": [
    "# Argument & Parameter"
   ]
  },
  {
   "cell_type": "code",
   "execution_count": 2,
   "metadata": {},
   "outputs": [
    {
     "name": "stdout",
     "output_type": "stream",
     "text": [
      "Anda memilih: Batu\n",
      "Anda memilih: Kertas\n"
     ]
    }
   ],
   "source": [
    "# Tambahkan parameter untuk print_hand\n",
    "def print_hand(hand):\n",
    "    # Gunakan parameter untuk mencetak 'Anda memilih: ___'\n",
    "    print('Anda memilih: ' + hand)\n",
    "\n",
    "\n",
    "# Panggil print_hand dengan 'Batu'\n",
    "print_hand('Batu')\n",
    "\n",
    "# Panggil print_hand dengan 'Kertas'\n",
    "print_hand('Kertas')\n"
   ]
  },
  {
   "cell_type": "markdown",
   "metadata": {},
   "source": [
    "# Beberapa Parameter"
   ]
  },
  {
   "cell_type": "code",
   "execution_count": 3,
   "metadata": {},
   "outputs": [
    {
     "name": "stdout",
     "output_type": "stream",
     "text": [
      "Ninja Ken memilih: Batu\n",
      "Komputer memilih: Kertas\n"
     ]
    }
   ],
   "source": [
    "# Tambahkan parameter ke print_hand\n",
    "def print_hand(hand, name):\n",
    "    # Ubah hasil ke '___ memilih: ___'\n",
    "    print(name + ' memilih: ' + hand)\n",
    "\n",
    "# Tambahkan argument ke dua ke print_hand\n",
    "print_hand('Batu', 'Ninja Ken')\n",
    "\n",
    "# Tambahkan argument ke dua ke print_hand\n",
    "print_hand('Kertas', 'Komputer')\n"
   ]
  },
  {
   "cell_type": "markdown",
   "metadata": {},
   "source": [
    "# Nilai Default Parameter"
   ]
  },
  {
   "cell_type": "code",
   "execution_count": 4,
   "metadata": {},
   "outputs": [
    {
     "name": "stdout",
     "output_type": "stream",
     "text": [
      "Tamu memilih: Batu\n"
     ]
    }
   ],
   "source": [
    "# Tambahkan nilai default untuk name\n",
    "def print_hand(hand, name='Tamu'):\n",
    "    print(name + ' memilih: ' + hand)\n",
    "\n",
    "\n",
    "# Tambahkan argument ke print_hand\n",
    "print_hand('Batu')\n"
   ]
  }
 ],
 "metadata": {
  "kernelspec": {
   "display_name": "Python 3",
   "language": "python",
   "name": "python3"
  },
  "language_info": {
   "codemirror_mode": {
    "name": "ipython",
    "version": 3
   },
   "file_extension": ".py",
   "mimetype": "text/x-python",
   "name": "python",
   "nbconvert_exporter": "python",
   "pygments_lexer": "ipython3",
   "version": "3.7.6"
  }
 },
 "nbformat": 4,
 "nbformat_minor": 4
}
