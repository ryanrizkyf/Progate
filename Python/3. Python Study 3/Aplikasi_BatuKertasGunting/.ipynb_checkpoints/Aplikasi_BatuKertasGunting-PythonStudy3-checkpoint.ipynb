{
 "cells": [
  {
   "cell_type": "markdown",
   "metadata": {},
   "source": [
    "# Mendapatkan Masukkan"
   ]
  },
  {
   "cell_type": "code",
   "execution_count": 1,
   "metadata": {},
   "outputs": [
    {
     "name": "stdout",
     "output_type": "stream",
     "text": [
      "Masukkan nama Anda: Ryan\n",
      "Ryan memilih: Batu\n"
     ]
    }
   ],
   "source": [
    "def print_hand(hand, name='Tamu'):\n",
    "    print(name + ' memilih: ' + hand)\n",
    "\n",
    "\n",
    "print('Memulai Permainan Batu Kertas Gunting!')\n",
    "\n",
    "# Dapatkan input, dan tetapkan ke variable player_name\n",
    "player_name = input('Masukkan nama Anda: ')\n",
    "\n",
    "# Tambahkan argument ke dua ke print_hand\n",
    "print_hand('Batu', player_name)\n"
   ]
  },
  {
   "cell_type": "markdown",
   "metadata": {},
   "source": [
    "# Memilih Tangan"
   ]
  },
  {
   "cell_type": "code",
   "execution_count": 2,
   "metadata": {},
   "outputs": [
    {
     "name": "stdout",
     "output_type": "stream",
     "text": [
      "Memulai Permainan Batu Kertas Gunting!\n",
      "Masukkan nama Anda: Ryan\n",
      "Pilih tangan: (0: Batu, 1: Kertas, 2: Gunting\n",
      "Masukkan nomor (0-2): 1\n",
      "Ryan memilih: Kertas\n"
     ]
    }
   ],
   "source": [
    "def print_hand(hand, name='Tamu'):\n",
    "    # Tetapkan list hands ke variable hands\n",
    "    hands = ['Batu', 'Kertas', 'Gunting']\n",
    "\n",
    "    # Memperbarui dengan menggunakan element dari variable hands\n",
    "    print(name + ' memilih: ' + hands[hand])\n",
    "\n",
    "\n",
    "print('Memulai Permainan Batu Kertas Gunting!')\n",
    "player_name = input('Masukkan nama Anda: ')\n",
    "# Cetak 'Pilih tangan: (0: Batu, 1: Kertas, 2: Gunting)'\n",
    "print('Pilih tangan: (0: Batu, 1: Kertas, 2: Gunting')\n",
    "\n",
    "# Dapatkan input, ubah, dan tetapkan ke variable player_hand\n",
    "player_hand = int(input('Masukkan nomor (0-2): '))\n",
    "\n",
    "# Ubah argument pertama ke player_hand\n",
    "print_hand(player_hand, player_name)\n"
   ]
  },
  {
   "cell_type": "markdown",
   "metadata": {},
   "source": [
    "# Nilai Return"
   ]
  },
  {
   "cell_type": "code",
   "execution_count": 3,
   "metadata": {},
   "outputs": [
    {
     "name": "stdout",
     "output_type": "stream",
     "text": [
      "Memulai permainan Batu Kertas Gunting!\n",
      "Masukkan nama Anda: Ryan\n",
      "Pilih tangan: (0: Batu, 1: Kertas, 2: Gunting)\n",
      "masukkan nomor (0-2): 1\n",
      "Ryan memilih: Kertas\n",
      "Ryan memilih: Kertas\n"
     ]
    }
   ],
   "source": [
    "# Definisikan function validate\n",
    "def validate(hand):\n",
    "    # Tambahkan control flow berdasarkan nilai hand\n",
    "    if hand < 0 or hand > 2:\n",
    "        return False\n",
    "    else:\n",
    "        return True\n",
    "\n",
    "\n",
    "def print_hand(hand, name='Tamu'):\n",
    "    hands = ['Batu', 'Kertas', 'Gunting']\n",
    "    print(name + ' memilih: ' + hands[hand])\n",
    "\n",
    "\n",
    "print('Memulai permainan Batu Kertas Gunting!')\n",
    "player_name = input('Masukkan nama Anda: ')\n",
    "\n",
    "print('Pilih tangan: (0: Batu, 1: Kertas, 2: Gunting)')\n",
    "player_hand = int(input('masukkan nomor (0-2): '))\n",
    "\n",
    "# Tambahkan control flow berdasarkan nilai return dari function validate\n",
    "if validate(player_hand):\n",
    "    print_hand(player_hand, player_name)\n",
    "else:\n",
    "    print('Mohon masukkan nomor yang benar')\n",
    "print_hand(player_hand, player_name)\n"
   ]
  },
  {
   "cell_type": "markdown",
   "metadata": {},
   "source": [
    "# Return"
   ]
  },
  {
   "cell_type": "code",
   "execution_count": 4,
   "metadata": {},
   "outputs": [
    {
     "name": "stdout",
     "output_type": "stream",
     "text": [
      "Memulai permainan Batu Kertas Gunting!\n",
      "Masukkan nama Anda: Ryan\n",
      "Pilih tangan: (0: Batu, 1: Kertas, 2: Gunting)\n",
      "Masukkan nomor (0-2): 2\n",
      "Ryan memilih: Gunting\n"
     ]
    }
   ],
   "source": [
    "def validate(hand):\n",
    "    if hand < 0 or hand > 2:\n",
    "        return False\n",
    "    # Hapus else dan perbaiki indentasi\n",
    "    return True\n",
    "\n",
    "\n",
    "def print_hand(hand, name='Tamu'):\n",
    "    hands = ['Batu', 'Kertas', 'Gunting']\n",
    "    print(name + ' memilih: ' + hands[hand])\n",
    "\n",
    "\n",
    "print('Memulai permainan Batu Kertas Gunting!')\n",
    "player_name = input('Masukkan nama Anda: ')\n",
    "\n",
    "print('Pilih tangan: (0: Batu, 1: Kertas, 2: Gunting)')\n",
    "player_hand = int(input('Masukkan nomor (0-2): '))\n",
    "\n",
    "if validate(player_hand):\n",
    "    print_hand(player_hand, player_name)\n",
    "else:\n",
    "    print('Mohon masukkan nomor yang benar')\n"
   ]
  },
  {
   "cell_type": "markdown",
   "metadata": {},
   "source": [
    "# Menambah Komputer"
   ]
  },
  {
   "cell_type": "code",
   "execution_count": 5,
   "metadata": {},
   "outputs": [
    {
     "name": "stdout",
     "output_type": "stream",
     "text": [
      "Memulai permainan Batu Kertas Gunting!\n",
      "Masukkan nama Anda: Ryan\n",
      "Pilih tangan: (0: Batu, 1: Kertas, 2: Gunting)\n",
      "Masukkan nomor (0-2): 0\n",
      "Ryan memilih: Batu\n",
      "Komputer memilih: Kertas\n"
     ]
    }
   ],
   "source": [
    "def validate(hand):\n",
    "    if hand < 0 or hand > 2:\n",
    "        return False\n",
    "    return True\n",
    "\n",
    "\n",
    "def print_hand(hand, name='Tamu'):\n",
    "    hands = ['Batu', 'Kertas', 'Gunting']\n",
    "    print(name + ' memilih: ' + hands[hand])\n",
    "\n",
    "\n",
    "print('Memulai permainan Batu Kertas Gunting!')\n",
    "player_name = input('Masukkan nama Anda: ')\n",
    "\n",
    "print('Pilih tangan: (0: Batu, 1: Kertas, 2: Gunting)')\n",
    "player_hand = int(input('Masukkan nomor (0-2): '))\n",
    "\n",
    "if validate(player_hand):\n",
    "    # Tetapkan 1 ke variable computer_hand\n",
    "    computer_hand = 1\n",
    "\n",
    "    print_hand(player_hand, player_name)\n",
    "    # Panggil function print_hand dengan computer_hand dan 'Komputer' sebagai argument\n",
    "    print_hand(computer_hand, 'Komputer')\n",
    "\n",
    "else:\n",
    "    print('Mohon masukkan nomor yang benar')\n"
   ]
  },
  {
   "cell_type": "markdown",
   "metadata": {},
   "source": [
    "# Menilai Pemenang"
   ]
  },
  {
   "cell_type": "code",
   "execution_count": 6,
   "metadata": {},
   "outputs": [
    {
     "name": "stdout",
     "output_type": "stream",
     "text": [
      "Memulai permainan Batu Kertas Gunting!\n",
      "Masukkan nama Anda: Ryan\n",
      "Pilih tangan: (0: Batu, 1: Kertas, 2: Gunting)\n",
      "Masukkan nomor (0-2): 1\n",
      "Ryan memilih: Kertas\n",
      "Komputer memilih: Kertas\n",
      "Hasil: Seri\n"
     ]
    }
   ],
   "source": [
    "def validate(hand):\n",
    "    if hand < 0 or hand > 2:\n",
    "        return False\n",
    "    return True\n",
    "\n",
    "\n",
    "def print_hand(hand, name='Tamu'):\n",
    "    hands = ['Batu', 'Kertas', 'Gunting']\n",
    "    print(name + ' memilih: ' + hands[hand])\n",
    "\n",
    "# Definisikan function judge\n",
    "\n",
    "\n",
    "def judge(player, computer):\n",
    "    # Tambahkan control flow berdasarkan perbandingan antara player dan computer\n",
    "    if player == computer:\n",
    "        return 'Seri'\n",
    "    elif player == 0 and computer == 1:\n",
    "        return 'Kalah'\n",
    "    elif player == 1 and computer == 2:\n",
    "        return 'Kalah'\n",
    "    elif player == 2 and computer == 0:\n",
    "        return 'Kalah'\n",
    "    else:\n",
    "        return 'Menang'\n",
    "\n",
    "\n",
    "print('Memulai permainan Batu Kertas Gunting!')\n",
    "player_name = input('Masukkan nama Anda: ')\n",
    "\n",
    "print('Pilih tangan: (0: Batu, 1: Kertas, 2: Gunting)')\n",
    "player_hand = int(input('Masukkan nomor (0-2): '))\n",
    "\n",
    "if validate(player_hand):\n",
    "    computer_hand = 1\n",
    "\n",
    "    print_hand(player_hand, player_name)\n",
    "    print_hand(computer_hand, 'Komputer')\n",
    "\n",
    "    # Tetapkan nilai return dari judge ke variable result\n",
    "    result = judge(player_hand, computer_hand)\n",
    "    # Cetak variable result\n",
    "    print('Hasil: ' + result)\n",
    "else:\n",
    "    print('Mohon masukkan nomor yang benar')\n"
   ]
  },
  {
   "cell_type": "markdown",
   "metadata": {},
   "source": [
    "# Menggunakan Module"
   ]
  },
  {
   "cell_type": "code",
   "execution_count": 7,
   "metadata": {},
   "outputs": [
    {
     "name": "stdout",
     "output_type": "stream",
     "text": [
      "Memulai permainan Batu Kertas Gunting!\n",
      "Masukkan nama Anda: Ryan\n",
      "Pilih tangan: (0: Batu, 1: Kertas, 2: Gunting)\n",
      "Masukkan nomor (0-2): 1\n",
      "Ryan memilih: Kertas\n",
      "Komputer memilih: Kertas\n",
      "Hasil: Seri\n"
     ]
    }
   ],
   "source": [
    "# import module utils\n",
    "import utils\n",
    "\n",
    "print('Memulai permainan Batu Kertas Gunting!')\n",
    "player_name = input('Masukkan nama Anda: ')\n",
    "\n",
    "print('Pilih tangan: (0: Batu, 1: Kertas, 2: Gunting)')\n",
    "player_hand = int(input('Masukkan nomor (0-2): '))\n",
    "\n",
    "# Panggil function validate milik module utils\n",
    "if utils.validate(player_hand):\n",
    "    computer_hand = 1\n",
    "\n",
    "    # Panggil function print_hand milik module utils\n",
    "    utils.print_hand(player_hand, player_name)\n",
    "    utils.print_hand(computer_hand, 'Komputer')\n",
    "\n",
    "    # Panggil function judge milik module utils\n",
    "    result = utils.judge(player_hand, computer_hand)\n",
    "    print('Hasil: ' + result)\n",
    "else:\n",
    "    print('Mohon masukkan nomor yang benar')\n"
   ]
  },
  {
   "cell_type": "markdown",
   "metadata": {},
   "source": [
    "# Library Standar Python"
   ]
  },
  {
   "cell_type": "code",
   "execution_count": 8,
   "metadata": {},
   "outputs": [
    {
     "name": "stdout",
     "output_type": "stream",
     "text": [
      "Memulai permainan Batu Kertas Gunting!\n",
      "Masukkan nama Anda: Ryan\n",
      "Pilih tangan: (0: Batu, 1: Kertas, 2: Gunting)\n",
      "Masukkan nomor (0-2): 0\n",
      "Ryan memilih: Batu\n",
      "Komputer memilih: Gunting\n",
      "Hasil: Menang\n"
     ]
    }
   ],
   "source": [
    "import utils\n",
    "# import module random\n",
    "import random\n",
    "\n",
    "print('Memulai permainan Batu Kertas Gunting!')\n",
    "player_name = input('Masukkan nama Anda: ')\n",
    "\n",
    "print('Pilih tangan: (0: Batu, 1: Kertas, 2: Gunting)')\n",
    "player_hand = int(input('Masukkan nomor (0-2): '))\n",
    "\n",
    "if utils.validate(player_hand):\n",
    "    # Tetapkan nomor acak antara 0 dan 2 ke computer_hand menggunakan randint\n",
    "    computer_hand = random.randint(0, 2)\n",
    "\n",
    "    utils.print_hand(player_hand, player_name)\n",
    "    utils.print_hand(computer_hand, 'Komputer')\n",
    "\n",
    "    result = utils.judge(player_hand, computer_hand)\n",
    "    print('Hasil: ' + result)\n",
    "else:\n",
    "    print('Mohon masukkan nomor yang benar')\n"
   ]
  },
  {
   "cell_type": "code",
   "execution_count": null,
   "metadata": {},
   "outputs": [],
   "source": []
  }
 ],
 "metadata": {
  "kernelspec": {
   "display_name": "Python 3",
   "language": "python",
   "name": "python3"
  },
  "language_info": {
   "codemirror_mode": {
    "name": "ipython",
    "version": 3
   },
   "file_extension": ".py",
   "mimetype": "text/x-python",
   "name": "python",
   "nbconvert_exporter": "python",
   "pygments_lexer": "ipython3",
   "version": "3.7.6"
  }
 },
 "nbformat": 4,
 "nbformat_minor": 4
}
