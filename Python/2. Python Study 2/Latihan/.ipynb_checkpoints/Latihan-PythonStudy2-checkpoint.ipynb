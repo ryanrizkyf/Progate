{
 "cells": [
  {
   "cell_type": "markdown",
   "metadata": {},
   "source": [
    "# 2. Menyusun Data"
   ]
  },
  {
   "cell_type": "markdown",
   "metadata": {},
   "source": [
    "# List"
   ]
  },
  {
   "cell_type": "code",
   "execution_count": 1,
   "metadata": {},
   "outputs": [],
   "source": [
    "# Tetapkan sebuah list string ke variable fruits\n",
    "fruits=['apel', 'pisang', 'jeruk']\n",
    "\n",
    "# Cetak element di index 0\n",
    "print(fruits[0])\n",
    "\n",
    "# Gabungkan string dan element di index 2, dan cetak hasilnya\n",
    "print('Saya suka ' + fruits[2])\n"
   ]
  },
  {
   "cell_type": "markdown",
   "metadata": {},
   "source": [
    "# Memperbarui & Menambah Element List"
   ]
  },
  {
   "cell_type": "code",
   "execution_count": 2,
   "metadata": {},
   "outputs": [],
   "source": [
    "fruits = ['apel', 'pisang', 'jeruk']\n",
    "\n",
    "# Tambahkan 'anggur' ke 'fruits'\n",
    "fruits.append('anggur')\n",
    "\n",
    "# Cetak 'fruits'\n",
    "print(fruits)\n",
    "\n",
    "# Perbarui element index 0\n",
    "fruits[0] = 'ceri'\n",
    "\n",
    "# Cetak element index 0\n",
    "print(fruits[0])\n"
   ]
  },
  {
   "cell_type": "markdown",
   "metadata": {},
   "source": [
    "# Loop For Part 1"
   ]
  },
  {
   "cell_type": "code",
   "execution_count": 3,
   "metadata": {},
   "outputs": [
    {
     "name": "stdout",
     "output_type": "stream",
     "text": [
      "Saya suka apel\n",
      "Saya suka pisang\n",
      "Saya suka jeruk\n"
     ]
    }
   ],
   "source": [
    "fruits = ['apel', 'pisang', 'jeruk']\n",
    "\n",
    "# Dapatkan element fruits menggunakan loop for, dan cetak 'Saya suka ___'\n",
    "for fruit in fruits:\n",
    "    print('Saya suka ' + fruit)\n"
   ]
  },
  {
   "cell_type": "markdown",
   "metadata": {},
   "source": [
    "# Dictionary"
   ]
  },
  {
   "cell_type": "code",
   "execution_count": 4,
   "metadata": {},
   "outputs": [
    {
     "name": "stdout",
     "output_type": "stream",
     "text": [
      "orange\n",
      "Bahasa Inggris apel adalah apple\n"
     ]
    }
   ],
   "source": [
    "# Tetapkan dictionary ke variable fruits\n",
    "fruits = {'apel': 'apple', 'jeruk': 'orange'}\n",
    "\n",
    "# Cetak nilai dengan kunci 'jeruk'\n",
    "print(fruits['jeruk'])\n",
    "\n",
    "# Dengan menggunakan dictionary fruits, cetak 'Bahasa Inggris apel adalah ___'\n",
    "print('Bahasa Inggris apel adalah ' + fruits['apel'])\n"
   ]
  },
  {
   "cell_type": "markdown",
   "metadata": {},
   "source": [
    "# Memperbarui & Menambah Element Dictionary"
   ]
  },
  {
   "cell_type": "code",
   "execution_count": 5,
   "metadata": {},
   "outputs": [
    {
     "name": "stdout",
     "output_type": "stream",
     "text": [
      "{'apel': 1, 'pisang': 3, 'jeruk': 4, 'anggur': 5}\n"
     ]
    }
   ],
   "source": [
    "fruits = {'apel': 1, 'pisang': 2, 'jeruk': 4}\n",
    "\n",
    "# Perbarui nilai dengan kunci 'pisang' ke 3\n",
    "fruits['pisang'] = 3\n",
    "\n",
    "# Tambahkan element ke fruits dengan kunci 'anggur' dan nilai 5\n",
    "fruits['anggur'] = 5\n",
    "\n",
    "# Cetak fruits\n",
    "print(fruits)\n"
   ]
  },
  {
   "cell_type": "markdown",
   "metadata": {},
   "source": [
    "# Loop For Part 2"
   ]
  },
  {
   "cell_type": "code",
   "execution_count": 6,
   "metadata": {},
   "outputs": [
    {
     "name": "stdout",
     "output_type": "stream",
     "text": [
      "apel adalah apple dalam bahasa Inggris\n",
      "jeruk adalah orange dalam bahasa Inggris\n",
      "anggur adalah grape dalam bahasa Inggris\n"
     ]
    }
   ],
   "source": [
    "fruits = {'apel': 'apple', 'jeruk': 'orange', 'anggur': 'grape'}\n",
    "\n",
    "# Dengan loop for, cetak '___ adalah ___ dalam bahasa Inggris'\n",
    "for fruit_key in fruits:\n",
    "    print(fruit_key + ' adalah ' + fruits[fruit_key] + ' dalam bahasa Inggris')\n"
   ]
  },
  {
   "cell_type": "markdown",
   "metadata": {},
   "source": [
    "# 3. Bekerja dengan Loop"
   ]
  },
  {
   "cell_type": "markdown",
   "metadata": {},
   "source": [
    "# Loop While"
   ]
  },
  {
   "cell_type": "code",
   "execution_count": 7,
   "metadata": {},
   "outputs": [
    {
     "name": "stdout",
     "output_type": "stream",
     "text": [
      "10\n",
      "9\n",
      "8\n",
      "7\n",
      "6\n",
      "5\n",
      "4\n",
      "3\n",
      "2\n",
      "1\n"
     ]
    }
   ],
   "source": [
    "x = 10\n",
    "\n",
    "# Buat loop while yang diulang selama x lebih besar dari 0\n",
    "while x > 0:\n",
    "    # Cetak variable x\n",
    "    print(x)\n",
    "    # Kurangi 1 dari variable x\n",
    "    x -= 1\n"
   ]
  },
  {
   "cell_type": "markdown",
   "metadata": {},
   "source": [
    "# Statement Break"
   ]
  },
  {
   "cell_type": "code",
   "execution_count": 8,
   "metadata": {},
   "outputs": [
    {
     "name": "stdout",
     "output_type": "stream",
     "text": [
      "765\n",
      "921\n",
      "777\n",
      "777 di temukan, hentikan loop\n"
     ]
    }
   ],
   "source": [
    "numbers = [765, 921, 777, 256]\n",
    "for number in numbers:\n",
    "    print(number)\n",
    "    # ketika variable number adalah 777, cetak '777 di temukan, hentikan loop' dan keluar dari loop\n",
    "    if number == 777:\n",
    "        print('777 di temukan, hentikan loop')\n",
    "        break\n"
   ]
  },
  {
   "cell_type": "markdown",
   "metadata": {},
   "source": [
    "# Statement Continue"
   ]
  },
  {
   "cell_type": "code",
   "execution_count": 9,
   "metadata": {},
   "outputs": [
    {
     "name": "stdout",
     "output_type": "stream",
     "text": [
      "1\n",
      "2\n",
      "4\n",
      "5\n",
      "7\n",
      "8\n",
      "10\n"
     ]
    }
   ],
   "source": [
    "numbers = [1, 2, 3, 4, 5, 6, 7, 8, 9, 10]\n",
    "for number in numbers:\n",
    "    # Lewatkan loop untuk angka yang dapat di bagi 3\n",
    "    if number % 3 == 0:\n",
    "        continue\n",
    "    print(number)\n"
   ]
  }
 ],
 "metadata": {
  "kernelspec": {
   "display_name": "Python 3",
   "language": "python",
   "name": "python3"
  },
  "language_info": {
   "codemirror_mode": {
    "name": "ipython",
    "version": 3
   },
   "file_extension": ".py",
   "mimetype": "text/x-python",
   "name": "python",
   "nbconvert_exporter": "python",
   "pygments_lexer": "ipython3",
   "version": "3.7.6"
  }
 },
 "nbformat": 4,
 "nbformat_minor": 4
}
