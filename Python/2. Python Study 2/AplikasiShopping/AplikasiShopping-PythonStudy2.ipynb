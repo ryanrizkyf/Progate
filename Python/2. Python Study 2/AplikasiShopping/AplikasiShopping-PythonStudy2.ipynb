{
 "cells": [
  {
   "cell_type": "markdown",
   "metadata": {},
   "source": [
    "# Menyiapkan Barang"
   ]
  },
  {
   "cell_type": "code",
   "execution_count": 1,
   "metadata": {},
   "outputs": [
    {
     "name": "stdout",
     "output_type": "stream",
     "text": [
      "--------------------------------------------------\n",
      "Harga setiap apel 2 dolar\n",
      "--------------------------------------------------\n",
      "Harga setiap pisang 4 dolar\n",
      "--------------------------------------------------\n",
      "Harga setiap jeruk 6 dolar\n"
     ]
    }
   ],
   "source": [
    "# Buat dictionary dengan kunci dan nilai, dan tetapkan ke variable items \n",
    "items = {'apel': 2, 'pisang': 4, 'jeruk': 6}\n",
    "# Buat loop for yang mengambil kunci dari items\n",
    "for item_name in items:\n",
    "    # Cetak '--------------------------------------------------'\n",
    "    print('--------------------------------------------------')\n",
    "    # Cetak 'Harga setiap ___ ___ dolar'\n",
    "    print('Harga setiap ' + item_name + ' ' + str(items[item_name]) + ' dolar')"
   ]
  },
  {
   "cell_type": "markdown",
   "metadata": {},
   "source": [
    "# Membeli Sebuah Barang"
   ]
  },
  {
   "cell_type": "code",
   "execution_count": 2,
   "metadata": {},
   "outputs": [
    {
     "name": "stdout",
     "output_type": "stream",
     "text": [
      "--------------------------------------------------\n",
      "Harga setiap apel 2 dolar\n",
      "Mau berapa apel?: 5\n",
      "Anda akan membeli 5 apel\n",
      "Harga total adalah 10 dolar\n",
      "--------------------------------------------------\n",
      "Harga setiap pisang 4 dolar\n",
      "Mau berapa pisang?: 7\n",
      "Anda akan membeli 7 pisang\n",
      "Harga total adalah 28 dolar\n",
      "--------------------------------------------------\n",
      "Harga setiap jeruk 6 dolar\n",
      "Mau berapa jeruk?: 8\n",
      "Anda akan membeli 8 jeruk\n",
      "Harga total adalah 48 dolar\n"
     ]
    }
   ],
   "source": [
    "items = {'apel': 2, 'pisang': 4, 'jeruk': 6}\n",
    "for item_name in items:\n",
    "    print('--------------------------------------------------')\n",
    "    print('Harga setiap ' + item_name + ' ' + str(items[item_name]) + ' dolar')\n",
    "\n",
    "    # Dapatkan nilai menggunakan input(), dan berikan ke variable input_count\n",
    "    input_count = input('Mau berapa ' + item_name + '?: ')\n",
    "\n",
    "    # Cetak 'Anda akan membeli ___ ___' menggunakan input_count dan item_name\n",
    "    print('Anda akan membeli ' + input_count + ' ' + item_name)\n",
    "\n",
    "    # Ubah input_count ke integer dan berikan ke variable count\n",
    "    count = int(input_count)\n",
    "\n",
    "    # Kalikan harga setiap item dan variable count, dan berikan ke variable total_price\n",
    "    total_price = items[item_name] * count\n",
    "\n",
    "    # Dengan menggunakan total_price dan type conversion, cetak 'Harga total adalah ___ dolar'\n",
    "    print('Harga total adalah ' + str(total_price) + ' dolar')\n"
   ]
  },
  {
   "cell_type": "markdown",
   "metadata": {},
   "source": [
    "# Control Flow"
   ]
  },
  {
   "cell_type": "code",
   "execution_count": 4,
   "metadata": {},
   "outputs": [
    {
     "name": "stdout",
     "output_type": "stream",
     "text": [
      "--------------------------------------------------\n",
      "Anda memiliki 20 dolar di dompet Anda\n",
      "Harga setiap apel 2 dolar\n",
      "Mau berapa apel?:3\n",
      "Anda akan membeli 3 apel\n",
      "Harga total adalah 6 dolar\n",
      "Anda telah membeli 3 apel\n",
      "--------------------------------------------------\n",
      "Anda memiliki 14 dolar di dompet Anda\n",
      "Harga setiap pisang 4 dolar\n",
      "Mau berapa pisang?:8\n",
      "Anda akan membeli 8 pisang\n",
      "Harga total adalah 32 dolar\n",
      "Uang Anda tidak mencukupi\n",
      "Anda tidak dapat membeli pisang sebanyak itu\n",
      "--------------------------------------------------\n",
      "Anda memiliki 14 dolar di dompet Anda\n",
      "Harga setiap jeruk 6 dolar\n",
      "Mau berapa jeruk?:6\n",
      "Anda akan membeli 6 jeruk\n",
      "Harga total adalah 36 dolar\n",
      "Uang Anda tidak mencukupi\n",
      "Anda tidak dapat membeli jeruk sebanyak itu\n"
     ]
    }
   ],
   "source": [
    "# Berikan 20 ke variable money\n",
    "money = 20\n",
    "\n",
    "items = {'apel': 2, 'pisang': 4, 'jeruk': 6}\n",
    "for item_name in items:\n",
    "    print('--------------------------------------------------')\n",
    "    # Menggunakan variable money, cetak 'Anda memiliki ___ dolar di dompet Anda'\n",
    "    print('Anda memiliki ' + str(money) + ' dolar di dompet Anda')\n",
    "\n",
    "    print('Harga setiap ' + item_name + ' ' + str(items[item_name]) + ' dolar')\n",
    "\n",
    "    input_count = input('Mau berapa ' + item_name + '?:')\n",
    "    print('Anda akan membeli ' + input_count + ' ' + item_name)\n",
    "\n",
    "    count = int(input_count)\n",
    "    total_price = items[item_name] * count\n",
    "    print('Harga total adalah ' + str(total_price) + ' dolar')\n",
    "\n",
    "    # Tambahkan control flow berdasarkan perbandingan dari money dan total_price\n",
    "    if money >= total_price:\n",
    "        print('Anda telah membeli ' + input_count + ' ' + item_name)\n",
    "        money -= total_price\n",
    "    else:\n",
    "        print('Uang Anda tidak mencukupi')\n",
    "        print('Anda tidak dapat membeli ' + item_name + ' sebanyak itu')\n"
   ]
  },
  {
   "cell_type": "markdown",
   "metadata": {},
   "source": [
    "# Uang yang Tersisa"
   ]
  },
  {
   "cell_type": "code",
   "execution_count": 5,
   "metadata": {},
   "outputs": [
    {
     "name": "stdout",
     "output_type": "stream",
     "text": [
      "--------------------------------------------------\n",
      "Anda memiliki 20 dolar di dompet Anda\n",
      "Harga setiap apel 2 dolar\n",
      "Mau berapa apel?:3\n",
      "Anda akan membeli 3 apel\n",
      "Harga total adalah 6 dolar\n",
      "Anda telah membeli 3 apel\n",
      "--------------------------------------------------\n",
      "Anda memiliki 14 dolar di dompet Anda\n",
      "Harga setiap pisang 4 dolar\n",
      "Mau berapa pisang?:4\n",
      "Anda akan membeli 4 pisang\n",
      "Harga total adalah 16 dolar\n",
      "Uang Anda tidak mencukupi\n",
      "Anda tidak dapat membeli pisang sebanyak itu\n",
      "--------------------------------------------------\n",
      "Anda memiliki 14 dolar di dompet Anda\n",
      "Harga setiap jeruk 6 dolar\n",
      "Mau berapa jeruk?:2\n",
      "Anda akan membeli 2 jeruk\n",
      "Harga total adalah 12 dolar\n",
      "Anda telah membeli 2 jeruk\n",
      "Uang Anda tinggal 2 dolar\n"
     ]
    }
   ],
   "source": [
    "money = 20\n",
    "items = {'apel': 2, 'pisang': 4, 'jeruk': 6}\n",
    "for item_name in items:\n",
    "    print('--------------------------------------------------')\n",
    "    print('Anda memiliki ' + str(money) + ' dolar di dompet Anda')\n",
    "    print('Harga setiap ' + item_name + ' ' + str(items[item_name]) + ' dolar')\n",
    "\n",
    "    input_count = input('Mau berapa ' + item_name + '?:')\n",
    "    print('Anda akan membeli ' + input_count + ' ' + item_name)\n",
    "\n",
    "    count = int(input_count)\n",
    "    total_price = items[item_name] * count\n",
    "    print('Harga total adalah ' + str(total_price) + ' dolar')\n",
    "\n",
    "    if money >= total_price:\n",
    "        print('Anda telah membeli ' + input_count + ' ' + item_name)\n",
    "        money -= total_price\n",
    "        # Ketika money sama dengan 0, cetak 'Dompet Anda kosong' dan hentikan loop\n",
    "        if money == 0:\n",
    "            print('Dompet Anda kosong')\n",
    "            break\n",
    "    else:\n",
    "        print('Uang Anda tidak mencukupi')\n",
    "        print('Anda tidak dapat membeli ' + item_name + ' sebanyak itu')\n",
    "# Menggunakan variable money dan tipe conversion, cetak 'Uang Anda tinggal ___ dolar'\n",
    "print('Uang Anda tinggal ' + str(money) + ' dolar')\n"
   ]
  },
  {
   "cell_type": "code",
   "execution_count": null,
   "metadata": {},
   "outputs": [],
   "source": []
  }
 ],
 "metadata": {
  "kernelspec": {
   "display_name": "Python 3",
   "language": "python",
   "name": "python3"
  },
  "language_info": {
   "codemirror_mode": {
    "name": "ipython",
    "version": 3
   },
   "file_extension": ".py",
   "mimetype": "text/x-python",
   "name": "python",
   "nbconvert_exporter": "python",
   "pygments_lexer": "ipython3",
   "version": "3.7.6"
  }
 },
 "nbformat": 4,
 "nbformat_minor": 4
}
