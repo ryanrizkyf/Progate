{
 "cells": [
  {
   "cell_type": "markdown",
   "metadata": {},
   "source": [
    "# Menghitung Harga"
   ]
  },
  {
   "cell_type": "code",
   "execution_count": 3,
   "metadata": {},
   "outputs": [
    {
     "name": "stdout",
     "output_type": "stream",
     "text": [
      "Anda akan membeli 5 apel\n",
      "Harga total adalah 10 dolar\n"
     ]
    }
   ],
   "source": [
    "## 1. Menghitung Harga ##\n",
    "\n",
    "# Berikan 2 ke variable apple_price\n",
    "apple_price = 2\n",
    "\n",
    "# Berikan 5 ke variable count\n",
    "count = 5\n",
    "\n",
    "# Berikan hasil dari apple_price * count ke variable total_price\n",
    "total_price = apple_price * count\n",
    "\n",
    "# Dengan menggunakan variable count, cetak 'Anda akan membeli .. apel'\n",
    "print('Anda akan membeli ' + str(count) + ' apel')\n",
    "\n",
    "# Dengan menggunakan variable total_price, cetak 'Harga total adalah .. dolar'\n",
    "print('Harga total adalah ' + str(total_price) + ' dolar')\n",
    "\n"
   ]
  },
  {
   "cell_type": "markdown",
   "metadata": {},
   "source": [
    "# Mendapat Input"
   ]
  },
  {
   "cell_type": "code",
   "execution_count": 4,
   "metadata": {},
   "outputs": [
    {
     "name": "stdout",
     "output_type": "stream",
     "text": [
      "Mau berapa apel?: 5\n",
      "Anda akan membeli 5 apel\n",
      "Harga total adalah 10 dolar\n"
     ]
    }
   ],
   "source": [
    "## 2. Mendapat Input ##\n",
    "\n",
    "# Berikan 2 ke variable apple_price\n",
    "apple_price = 2\n",
    "\n",
    "# Terima jumlah apel dengan menggunakan input(), dan berikan hasilnya ke variable input_count\n",
    "input_count = input('Mau berapa apel?: ')\n",
    "\n",
    "# Ubah variable input_count ke integer, dan berikan hasilnya ke variable count\n",
    "count = int(input_count)\n",
    "total_price = apple_price * count\n",
    "\n",
    "print('Anda akan membeli ' + str(count) + ' apel')\n",
    "print('Harga total adalah ' + str(total_price) + ' dolar')\n"
   ]
  },
  {
   "cell_type": "markdown",
   "metadata": {},
   "source": [
    "# Control Flow"
   ]
  },
  {
   "cell_type": "code",
   "execution_count": 5,
   "metadata": {},
   "outputs": [
    {
     "name": "stdout",
     "output_type": "stream",
     "text": [
      "Mau berapa apel?: 8\n",
      "Anda akan membeli 8 apel\n",
      "Harga total adalah 16 dolar\n",
      "Uang Anda tidak mencukupi\n",
      "Anda tidak dapat membeli apel sebanyak itu\n"
     ]
    }
   ],
   "source": [
    "## 3. Control Flow ##\n",
    "\n",
    "# Berikan 2 ke variable apple_price\n",
    "apple_price = 2\n",
    "# Berikan 10 ke variable money\n",
    "money = 10\n",
    "\n",
    "input_count = input('Mau berapa apel?: ')\n",
    "count = int(input_count)\n",
    "total_price = apple_price * count\n",
    "\n",
    "print('Anda akan membeli ' + str(count) + ' apel')\n",
    "print('Harga total adalah ' + str(total_price) + ' dolar')\n",
    "\n",
    "# Tambahkan control flow berdasarkan perbandingan antara money dan total_price\n",
    "if money > total_price:\n",
    "    print('Anda telah membeli ' + str(count) + ' apel')\n",
    "    print('Uang Anda tinggal ' + str(count) + ' dolar')\n",
    "elif money == total_price:\n",
    "    print('Anda telah membeli ' + str(count) + ' apel')\n",
    "    print('Dompet Anda kosong')\n",
    "else:\n",
    "    print('Uang Anda tidak mencukupi')\n",
    "    print('Anda tidak dapat membeli apel sebanyak itu')\n"
   ]
  },
  {
   "cell_type": "code",
   "execution_count": null,
   "metadata": {},
   "outputs": [],
   "source": []
  }
 ],
 "metadata": {
  "kernelspec": {
   "display_name": "Python 3",
   "language": "python",
   "name": "python3"
  },
  "language_info": {
   "codemirror_mode": {
    "name": "ipython",
    "version": 3
   },
   "file_extension": ".py",
   "mimetype": "text/x-python",
   "name": "python",
   "nbconvert_exporter": "python",
   "pygments_lexer": "ipython3",
   "version": "3.7.6"
  }
 },
 "nbformat": 4,
 "nbformat_minor": 4
}
