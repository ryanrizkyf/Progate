{
 "cells": [
  {
   "cell_type": "markdown",
   "metadata": {},
   "source": [
    "# 2. Dasar - Dasar"
   ]
  },
  {
   "cell_type": "markdown",
   "metadata": {},
   "source": [
    "# String"
   ]
  },
  {
   "cell_type": "code",
   "execution_count": 1,
   "metadata": {},
   "outputs": [
    {
     "name": "stdout",
     "output_type": "stream",
     "text": [
      "Hello World\n"
     ]
    }
   ],
   "source": [
    "# Cetak 'Hello World'\n",
    "print(\"Hello World\")\n"
   ]
  },
  {
   "cell_type": "markdown",
   "metadata": {},
   "source": [
    "# Integer"
   ]
  },
  {
   "cell_type": "code",
   "execution_count": 2,
   "metadata": {},
   "outputs": [
    {
     "name": "stdout",
     "output_type": "stream",
     "text": [
      "7\n",
      "12\n",
      "9 + 3\n"
     ]
    }
   ],
   "source": [
    "# Cetak 7 sebagai sebuah integer\n",
    "print(7)\n",
    "\n",
    "# Cetak penjumlahan dari 9 dan 3\n",
    "print(9 + 3)\n",
    "\n",
    "# Cetak '9 + 3' sebagai string\n",
    "print('9 + 3')\n"
   ]
  },
  {
   "cell_type": "markdown",
   "metadata": {},
   "source": [
    "# Perhitungan"
   ]
  },
  {
   "cell_type": "code",
   "execution_count": 3,
   "metadata": {},
   "outputs": [
    {
     "name": "stdout",
     "output_type": "stream",
     "text": [
      "4.5\n",
      "35\n",
      "1\n"
     ]
    }
   ],
   "source": [
    "# Cetak hasil dari 9 / 2\n",
    "print(9 / 2)\n",
    "\n",
    "# Cetak hasil dar 7 * 5\n",
    "print(7 * 5)\n",
    "\n",
    "# Cetak sisa dari 5 dibagi 2 menggunakan %\n",
    "print(5 % 2)\n"
   ]
  },
  {
   "cell_type": "markdown",
   "metadata": {},
   "source": [
    "# 3. Variable"
   ]
  },
  {
   "cell_type": "markdown",
   "metadata": {},
   "source": [
    "# Variable"
   ]
  },
  {
   "cell_type": "code",
   "execution_count": 4,
   "metadata": {},
   "outputs": [
    {
     "name": "stdout",
     "output_type": "stream",
     "text": [
      "Bob\n",
      "7\n"
     ]
    }
   ],
   "source": [
    "# Tetapkan 'Bob' ke variable name\n",
    "name = 'Bob'\n",
    "\n",
    "# Cetak nilai dari variable name\n",
    "print(name)\n",
    "\n",
    "# Tetapkan 7 ke variable number\n",
    "number = 7\n",
    "\n",
    "# Cetak nilai dari variable number\n",
    "print(number)\n"
   ]
  },
  {
   "cell_type": "markdown",
   "metadata": {},
   "source": [
    "# Menggunakan Variable"
   ]
  },
  {
   "cell_type": "code",
   "execution_count": 5,
   "metadata": {},
   "outputs": [
    {
     "name": "stdout",
     "output_type": "stream",
     "text": [
      "16\n"
     ]
    }
   ],
   "source": [
    "apple_price = 2\n",
    "apple_count = 8\n",
    "\n",
    "# Berikan hasil dari apple_price * apple_count ke variable total_price\n",
    "total_price = apple_price * apple_count\n",
    "\n",
    "# Cetak nilai dari variable total_price\n",
    "print(total_price)\n"
   ]
  },
  {
   "cell_type": "markdown",
   "metadata": {},
   "source": [
    "# Memperbarui Variabel"
   ]
  },
  {
   "cell_type": "code",
   "execution_count": 6,
   "metadata": {},
   "outputs": [
    {
     "name": "stdout",
     "output_type": "stream",
     "text": [
      "20\n",
      "70\n"
     ]
    }
   ],
   "source": [
    "money = 20\n",
    "print(money)\n",
    "\n",
    "# Tambahkan 50 ke variable money\n",
    "money += 50\n",
    "\n",
    "# Cetak nilai dari variable money\n",
    "print(money)\n"
   ]
  },
  {
   "cell_type": "markdown",
   "metadata": {},
   "source": [
    "# Penggabungan String"
   ]
  },
  {
   "cell_type": "code",
   "execution_count": 7,
   "metadata": {},
   "outputs": [
    {
     "name": "stdout",
     "output_type": "stream",
     "text": [
      "Nama saya Bob\n"
     ]
    }
   ],
   "source": [
    "# Tetapkan 'Bob' ke variable my_name\n",
    "my_name = 'Bob'\n",
    "\n",
    "# Cetak 'Nama saya Bob' dengan menggabungkan variable my_name dan sebuah string\n",
    "print('Nama saya ' + my_name)\n"
   ]
  },
  {
   "cell_type": "markdown",
   "metadata": {},
   "source": [
    "# Tipe-Tipe Data"
   ]
  },
  {
   "cell_type": "code",
   "execution_count": 8,
   "metadata": {},
   "outputs": [
    {
     "name": "stdout",
     "output_type": "stream",
     "text": [
      "Saya berusia 24 tahun\n",
      "6\n"
     ]
    }
   ],
   "source": [
    "age = 24\n",
    "# Cetak 'Saya berusia 24 tahun' menggunakan variable age\n",
    "print('Saya berusia ' + str(age) + ' tahun')\n",
    "\n",
    "count = '5'\n",
    "# Ubah variable count ke tipe data integer, tambahkan 1, dan cetak hasilnya\n",
    "print(int(count) + 1)\n"
   ]
  },
  {
   "cell_type": "markdown",
   "metadata": {},
   "source": [
    "# 4. Boolean & Kondisi"
   ]
  },
  {
   "cell_type": "markdown",
   "metadata": {},
   "source": [
    "# Statement If"
   ]
  },
  {
   "cell_type": "code",
   "execution_count": 9,
   "metadata": {},
   "outputs": [
    {
     "name": "stdout",
     "output_type": "stream",
     "text": [
      "x adalah 70\n",
      "y bukan 40\n"
     ]
    }
   ],
   "source": [
    "x = 7 * 10\n",
    "y = 5 * 6\n",
    "\n",
    "# Jika x sama dengan 70, cetak 'x adalah 70'\n",
    "if x == 70:\n",
    "    print('x adalah 70')\n",
    "\n",
    "# Jika y tidak sama dengan 40, cetak 'y bukan 40'\n",
    "if y != 40:\n",
    "    print('y bukan 40')\n"
   ]
  },
  {
   "cell_type": "markdown",
   "metadata": {},
   "source": [
    "# Booleans"
   ]
  },
  {
   "cell_type": "code",
   "execution_count": 10,
   "metadata": {},
   "outputs": [
    {
     "name": "stdout",
     "output_type": "stream",
     "text": [
      "Anda dapat membeli apel\n"
     ]
    }
   ],
   "source": [
    "x = 10\n",
    "# Jika x lebih besar dari 30, cetak 'x lebih besar dari 30'\n",
    "if x > 30:\n",
    "    print('x lebih besar dari 30')\n",
    "\n",
    "\n",
    "money = 5\n",
    "apple_price = 2\n",
    "# Jika money sama dengan atau lebih besar dari apple_price, cetak 'Anda dapat membeli apel'\n",
    "if money >= apple_price:\n",
    "    print('Anda dapat membeli apel')\n"
   ]
  },
  {
   "cell_type": "markdown",
   "metadata": {},
   "source": [
    "# Statement Else"
   ]
  },
  {
   "cell_type": "code",
   "execution_count": 11,
   "metadata": {},
   "outputs": [
    {
     "name": "stdout",
     "output_type": "stream",
     "text": [
      "Uang Anda tidak mencukupi\n"
     ]
    }
   ],
   "source": [
    "money = 2\n",
    "apple_price = 4\n",
    "\n",
    "if money >= apple_price:\n",
    "    print('Anda dapat membeli apel')\n",
    "# Ketika kondisi di atas adalah False, cetak 'Uang Anda tidak mencukupi'\n",
    "else:\n",
    "    print(\"Uang Anda tidak mencukupi\")\n"
   ]
  },
  {
   "cell_type": "markdown",
   "metadata": {},
   "source": [
    "# Statement Elif"
   ]
  },
  {
   "cell_type": "code",
   "execution_count": 12,
   "metadata": {},
   "outputs": [
    {
     "name": "stdout",
     "output_type": "stream",
     "text": [
      "Anda dapat membeli apel tetapi dompet Anda akan menjadi kosong\n"
     ]
    }
   ],
   "source": [
    "money = 2\n",
    "apple_price = 2\n",
    "\n",
    "if money > apple_price:\n",
    "    print('Anda dapat membeli apel')\n",
    "# Ketika kedua variable memiliki nilai yang sama, cetak 'Anda dapat membeli apel tetapi dompet Anda akan menjadi kosong'\n",
    "elif money == apple_price:\n",
    "    print('Anda dapat membeli apel tetapi dompet Anda akan menjadi kosong')\n",
    "\n",
    "else:\n",
    "    print('Uang Anda tidak mencukupi')\n"
   ]
  },
  {
   "cell_type": "markdown",
   "metadata": {},
   "source": [
    "# Menggabungkan Kondisi"
   ]
  },
  {
   "cell_type": "code",
   "execution_count": 13,
   "metadata": {},
   "outputs": [
    {
     "name": "stdout",
     "output_type": "stream",
     "text": [
      "x berkisar antara 10 dan 30\n",
      "y lebih kecil dari 10 atau lebih besar dari 30\n",
      "z bukan 77\n"
     ]
    }
   ],
   "source": [
    "x = 20\n",
    "# Jika x berkisar antara 10 dan 30 (inklusif), cetak 'x berkisar antara 10 dan 30'\n",
    "if x >= 10 and x <= 30:\n",
    "    print('x berkisar antara 10 dan 30')\n",
    "\n",
    "\n",
    "y = 60\n",
    "# Jika y lebih kecil dari 10 atau lebih besar dari 30, cetak 'y lebih kecil dari 10 atau lebih besar dari 30'\n",
    "if y < 10 or y > 30:\n",
    "    print('y lebih kecil dari 10 atau lebih besar dari 30')\n",
    "\n",
    "\n",
    "z = 55\n",
    "# Jika z tidak sama dengan 77, print 'z bukan 77'\n",
    "if not z == 77:\n",
    "    print('z bukan 77')\n"
   ]
  },
  {
   "cell_type": "markdown",
   "metadata": {},
   "source": [
    "# 5. Aplikasi Belanja"
   ]
  },
  {
   "cell_type": "markdown",
   "metadata": {},
   "source": [
    "# Menghitung Harga"
   ]
  },
  {
   "cell_type": "code",
   "execution_count": 14,
   "metadata": {},
   "outputs": [
    {
     "name": "stdout",
     "output_type": "stream",
     "text": [
      "Anda akan membeli 5 apel\n",
      "Harga total adalah 10 dolar\n"
     ]
    }
   ],
   "source": [
    "# Berikan 2 ke variable apple_price\n",
    "apple_price = 2\n",
    "\n",
    "# Berikan 5 ke variable count\n",
    "count = 5\n",
    "\n",
    "# Berikan hasil dari apple_price * count ke variable total_price\n",
    "total_price = apple_price * count\n",
    "\n",
    "# Dengan menggunakan variable count, cetak 'Anda akan membeli .. apel'\n",
    "print('Anda akan membeli ' + str(count) + ' apel')\n",
    "\n",
    "# Dengan menggunakan variable total_price, cetak 'Harga total adalah .. dolar'\n",
    "print('Harga total adalah ' + str(total_price) + ' dolar')\n"
   ]
  },
  {
   "cell_type": "markdown",
   "metadata": {},
   "source": [
    "# Mendapat Input"
   ]
  },
  {
   "cell_type": "code",
   "execution_count": 15,
   "metadata": {},
   "outputs": [
    {
     "name": "stdout",
     "output_type": "stream",
     "text": [
      "Mau berapa apel?: 3\n",
      "Anda akan membeli 3 apel\n",
      "Harga total adalah 6 dolar\n"
     ]
    }
   ],
   "source": [
    "apple_price = 2\n",
    "\n",
    "# Terima jumlah apel dengan menggunakan input(), dan berikan hasilnya ke variable input_count\n",
    "input_count = input('Mau berapa apel?: ')\n",
    "\n",
    "# Ubah variable input_count ke integer, dan berikan hasilnya ke variable count\n",
    "count = int(input_count)\n",
    "total_price = apple_price * count\n",
    "\n",
    "print('Anda akan membeli ' + str(count) + ' apel')\n",
    "print('Harga total adalah ' + str(total_price) + ' dolar')\n"
   ]
  },
  {
   "cell_type": "markdown",
   "metadata": {},
   "source": [
    "# Control Flow"
   ]
  },
  {
   "cell_type": "code",
   "execution_count": 16,
   "metadata": {},
   "outputs": [
    {
     "name": "stdout",
     "output_type": "stream",
     "text": [
      "Mau berapa apel?: 4\n",
      "Anda akan membeli 4 apel\n",
      "Harga total adalah 8 dolar\n",
      "Anda telah membeli 4 apel\n",
      "Uang Anda tinggal 4 dolar\n"
     ]
    }
   ],
   "source": [
    "apple_price = 2\n",
    "# Berikan 10 ke variable money\n",
    "money = 10\n",
    "\n",
    "input_count = input('Mau berapa apel?: ')\n",
    "count = int(input_count)\n",
    "total_price = apple_price * count\n",
    "\n",
    "print('Anda akan membeli ' + str(count) + ' apel')\n",
    "print('Harga total adalah ' + str(total_price) + ' dolar')\n",
    "\n",
    "# Tambahkan control flow berdasarkan perbandingan antara money dan total_price\n",
    "if money > total_price:\n",
    "    print('Anda telah membeli ' + str(count) + ' apel')\n",
    "    print('Uang Anda tinggal ' + str(count) + ' dolar')\n",
    "elif money == total_price:\n",
    "    print('Anda telah membeli ' + str(count) + ' apel')\n",
    "    print('Dompet Anda kosong')\n",
    "else:\n",
    "    print('Uang Anda tidak mencukupi')\n",
    "    print('Anda tidak dapat membeli apel sebanyak itu')\n"
   ]
  }
 ],
 "metadata": {
  "kernelspec": {
   "display_name": "Python 3",
   "language": "python",
   "name": "python3"
  },
  "language_info": {
   "codemirror_mode": {
    "name": "ipython",
    "version": 3
   },
   "file_extension": ".py",
   "mimetype": "text/x-python",
   "name": "python",
   "nbconvert_exporter": "python",
   "pygments_lexer": "ipython3",
   "version": "3.7.6"
  }
 },
 "nbformat": 4,
 "nbformat_minor": 4
}
