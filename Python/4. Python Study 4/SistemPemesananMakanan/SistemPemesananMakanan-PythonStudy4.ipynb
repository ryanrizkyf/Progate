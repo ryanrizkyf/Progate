{
 "cells": [
  {
   "cell_type": "code",
   "execution_count": 1,
   "metadata": {},
   "outputs": [
    {
     "name": "stdout",
     "output_type": "stream",
     "text": [
      "0. Roti Lapis: $5\n",
      "1. Kue Coklat: $4\n",
      "2. Kopi: $3\n",
      "3. Jus Jeruk: $2\n",
      "--------------------\n",
      "Masukkan nomor menu: 3\n",
      "Item yang di pilih: Jus Jeruk\n",
      "Jumlah pesanan (diskon 10% untuk 3 atau lebih): 8\n",
      "Total harga adalah $14\n"
     ]
    }
   ],
   "source": [
    "from menu_item import MenuItem\n",
    "\n",
    "menu_item1 = MenuItem('Roti Lapis', 5)\n",
    "menu_item2 = MenuItem('Kue Coklat', 4)\n",
    "menu_item3 = MenuItem('Kopi', 3)\n",
    "menu_item4 = MenuItem('Jus Jeruk', 2)\n",
    "\n",
    "menu_items = [menu_item1, menu_item2, menu_item3, menu_item4]\n",
    "\n",
    "index = 0\n",
    "\n",
    "for menu_item in menu_items:\n",
    "    print(str(index) + '. ' + menu_item.info())\n",
    "    index += 1\n",
    "\n",
    "print('--------------------')\n",
    "\n",
    "order = int(input('Masukkan nomor menu: '))\n",
    "selected_menu = menu_items[order]\n",
    "print('Item yang di pilih: ' + selected_menu.name)\n",
    "\n",
    "# Terima input dari console, dan Berikan input ke variable count\n",
    "count = int(input('Jumlah pesanan (diskon 10% untuk 3 atau lebih): '))\n",
    "\n",
    "# Panggil method get_total_price\n",
    "result = selected_menu.get_total_price(count)\n",
    "\n",
    "# Cetak 'Total harga adalah $____'\n",
    "print('Total harga adalah $' + str(result))\n"
   ]
  }
 ],
 "metadata": {
  "kernelspec": {
   "display_name": "Python 3",
   "language": "python",
   "name": "python3"
  },
  "language_info": {
   "codemirror_mode": {
    "name": "ipython",
    "version": 3
   },
   "file_extension": ".py",
   "mimetype": "text/x-python",
   "name": "python",
   "nbconvert_exporter": "python",
   "pygments_lexer": "ipython3",
   "version": "3.7.6"
  }
 },
 "nbformat": 4,
 "nbformat_minor": 4
}
