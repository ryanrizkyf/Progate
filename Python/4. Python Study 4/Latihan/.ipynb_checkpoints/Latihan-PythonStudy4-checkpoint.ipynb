{
 "cells": [
  {
   "cell_type": "markdown",
   "metadata": {},
   "source": [
    "# 1. Class & Instance"
   ]
  },
  {
   "cell_type": "markdown",
   "metadata": {},
   "source": [
    "# Definisi Class"
   ]
  },
  {
   "cell_type": "code",
   "execution_count": 1,
   "metadata": {},
   "outputs": [],
   "source": [
    "# Definisikan class MenuItem\n",
    "class MenuItem:\n",
    "    pass\n"
   ]
  },
  {
   "cell_type": "markdown",
   "metadata": {},
   "source": [
    "# Instansiasi Class"
   ]
  },
  {
   "cell_type": "code",
   "execution_count": 2,
   "metadata": {},
   "outputs": [],
   "source": [
    "# Definisikan class MenuItem\n",
    "class MenuItem:\n",
    "    pass\n",
    "\n",
    "\n",
    "# Buat instance untuk class MenuItem\n",
    "menu_item1 = MenuItem()\n"
   ]
  },
  {
   "cell_type": "markdown",
   "metadata": {},
   "source": [
    "# Variable Instance"
   ]
  },
  {
   "cell_type": "code",
   "execution_count": 3,
   "metadata": {},
   "outputs": [
    {
     "name": "stdout",
     "output_type": "stream",
     "text": [
      "Roti Lapis\n",
      "5\n"
     ]
    }
   ],
   "source": [
    "# Definisikan class MenuItem\n",
    "class MenuItem:\n",
    "    pass\n",
    "\n",
    "\n",
    "# Buat instance untuk class MenuItem\n",
    "menu_item1 = MenuItem()\n",
    "\n",
    "menu_item1.name = 'Roti Lapis'\n",
    "print(menu_item1.name)\n",
    "\n",
    "# Tentukan price menu_item1 ke 5\n",
    "menu_item1.price = 5\n",
    "\n",
    "# Cetak price dari menu_item1\n",
    "print(menu_item1.price)\n"
   ]
  },
  {
   "cell_type": "markdown",
   "metadata": {},
   "source": [
    "# Instance Ganda"
   ]
  },
  {
   "cell_type": "code",
   "execution_count": 4,
   "metadata": {},
   "outputs": [
    {
     "name": "stdout",
     "output_type": "stream",
     "text": [
      "Roti Lapis\n",
      "5\n",
      "Kue Coklat\n",
      "4\n"
     ]
    }
   ],
   "source": [
    "# Definisikan class MenuItem\n",
    "class MenuItem:\n",
    "    pass\n",
    "\n",
    "\n",
    "menu_item1 = MenuItem()\n",
    "\n",
    "menu_item1.name = 'Roti Lapis'\n",
    "print(menu_item1.name)\n",
    "\n",
    "menu_item1.price = 5\n",
    "print(menu_item1.price)\n",
    "\n",
    "# Buat instance dari class MenuItem\n",
    "menu_item2 = MenuItem()\n",
    "\n",
    "# Tetapkan name milik menu_item2 ke 'Kue Coklat'\n",
    "menu_item2.name = 'Kue Coklat'\n",
    "\n",
    "# Cetak nama dari menu_item2\n",
    "print(menu_item2.name)\n",
    "\n",
    "# Tetapkan price dari menu_item2 ke 4\n",
    "menu_item2.price = 4\n",
    "\n",
    "# Cetak price dari menu_item2\n",
    "print(menu_item2.price)\n"
   ]
  },
  {
   "cell_type": "markdown",
   "metadata": {},
   "source": [
    "# 2. Instance Method"
   ]
  },
  {
   "cell_type": "markdown",
   "metadata": {},
   "source": [
    "# Class & Method"
   ]
  },
  {
   "cell_type": "code",
   "execution_count": 5,
   "metadata": {},
   "outputs": [
    {
     "name": "stdout",
     "output_type": "stream",
     "text": [
      "Tampilkan nama dan harga dari menu item\n",
      "Tampilkan nama dan harga dari menu item\n"
     ]
    }
   ],
   "source": [
    "class MenuItem:\n",
    "    # Definiskan method info\n",
    "    def info(self):\n",
    "        print('Tampilkan nama dan harga dari menu item')\n",
    "\n",
    "\n",
    "menu_item1 = MenuItem()\n",
    "menu_item1.name = 'Roti Lapis'\n",
    "menu_item1.price = 5\n",
    "\n",
    "# Panggil method info dari menu_item1\n",
    "menu_item1.info()\n",
    "\n",
    "menu_item2 = MenuItem()\n",
    "menu_item2.name = 'Kue Coklat'\n",
    "menu_item2.price = 4\n",
    "\n",
    "# Panggil method info dari menu_item2\n",
    "menu_item2.info()\n"
   ]
  },
  {
   "cell_type": "markdown",
   "metadata": {},
   "source": [
    "# Method Instance (Self)"
   ]
  },
  {
   "cell_type": "code",
   "execution_count": 6,
   "metadata": {},
   "outputs": [
    {
     "name": "stdout",
     "output_type": "stream",
     "text": [
      "Roti Lapis: $5\n",
      "Kue Coklat: $4\n"
     ]
    }
   ],
   "source": [
    "class MenuItem:\n",
    "    def info(self):\n",
    "        # Cetak dengan format '____: $____'\n",
    "        print(self.name + ': $' + str(self.price))\n",
    "\n",
    "\n",
    "menu_item1 = MenuItem()\n",
    "menu_item1.name = 'Roti Lapis'\n",
    "menu_item1.price = 5\n",
    "\n",
    "menu_item1.info()\n",
    "\n",
    "menu_item2 = MenuItem()\n",
    "menu_item2.name = 'Kue Coklat'\n",
    "menu_item2.price = 4\n",
    "\n",
    "menu_item2.info()\n"
   ]
  },
  {
   "cell_type": "markdown",
   "metadata": {},
   "source": [
    "# Method Instance (Nilai Return)"
   ]
  },
  {
   "cell_type": "code",
   "execution_count": 7,
   "metadata": {},
   "outputs": [
    {
     "name": "stdout",
     "output_type": "stream",
     "text": [
      "Roti Lapis: $5\n",
      "Kue Coklat: $4\n"
     ]
    }
   ],
   "source": [
    "class MenuItem:\n",
    "    def info(self):\n",
    "        # Return kontent dari print() sebagai nilai return\n",
    "        return self.name + ': $' + str(self.price)\n",
    "\n",
    "\n",
    "menu_item1 = MenuItem()\n",
    "menu_item1.name = 'Roti Lapis'\n",
    "menu_item1.price = 5\n",
    "\n",
    "# Cetak nilai dari menu_item1.info()\n",
    "print(menu_item1.info())\n",
    "\n",
    "menu_item2 = MenuItem()\n",
    "menu_item2.name = 'Kue Coklat'\n",
    "menu_item2.price = 4\n",
    "\n",
    "# Cetak nilai dari menu_item2.info()\n",
    "print(menu_item2.info())\n"
   ]
  },
  {
   "cell_type": "markdown",
   "metadata": {},
   "source": [
    "# Method Instance (Parameter)"
   ]
  },
  {
   "cell_type": "code",
   "execution_count": 8,
   "metadata": {},
   "outputs": [
    {
     "name": "stdout",
     "output_type": "stream",
     "text": [
      "Roti Lapis: $5\n",
      "Total harga adalah $ 20\n"
     ]
    }
   ],
   "source": [
    "class MenuItem:\n",
    "    def info(self):\n",
    "        return self.name + ': $' + str(self.price)\n",
    "\n",
    "    # Definiskan method get_total_price\n",
    "    def get_total_price(self, count):\n",
    "        total_price = self.price * count\n",
    "        return total_price\n",
    "\n",
    "\n",
    "menu_item1 = MenuItem()\n",
    "menu_item1.name = 'Roti Lapis'\n",
    "menu_item1.price = 5\n",
    "\n",
    "print(menu_item1.info())\n",
    "\n",
    "# Panggil method get_total_price\n",
    "result = menu_item1.get_total_price(4)\n",
    "\n",
    "# Cetak 'Total harga adalah $____'\n",
    "print('Total harga adalah $ ' + str(result))\n"
   ]
  },
  {
   "cell_type": "markdown",
   "metadata": {},
   "source": [
    "# Method __init__ Part 1"
   ]
  },
  {
   "cell_type": "code",
   "execution_count": 9,
   "metadata": {},
   "outputs": [
    {
     "name": "stdout",
     "output_type": "stream",
     "text": [
      "Instance dari class MenuItem telah di ciptakan!\n",
      "Roti Lapis: $5\n",
      "Total harga adalah $20\n"
     ]
    }
   ],
   "source": [
    "class MenuItem:\n",
    "    # Definisikan method __init__\n",
    "    def __init__(self):\n",
    "        print('Instance dari class MenuItem telah di ciptakan!')\n",
    "\n",
    "    def info(self):\n",
    "        return self.name + ': $' + str(self.price)\n",
    "\n",
    "    def get_total_price(self, count):\n",
    "        total_price = self.price * count\n",
    "        return total_price\n",
    "\n",
    "\n",
    "menu_item1 = MenuItem()\n",
    "menu_item1.name = 'Roti Lapis'\n",
    "menu_item1.price = 5\n",
    "\n",
    "print(menu_item1.info())\n",
    "\n",
    "result = menu_item1.get_total_price(4)\n",
    "print('Total harga adalah $' + str(result))\n"
   ]
  },
  {
   "cell_type": "markdown",
   "metadata": {},
   "source": [
    "# Method __init__ Part 2"
   ]
  },
  {
   "cell_type": "code",
   "execution_count": 10,
   "metadata": {},
   "outputs": [
    {
     "name": "stdout",
     "output_type": "stream",
     "text": [
      "Roti Lapis: $5\n",
      "Total harga adalah $20\n"
     ]
    }
   ],
   "source": [
    "class MenuItem:\n",
    "    def __init__(self):\n",
    "        # Tetapkan self.name ke 'Roti Lapis'\n",
    "        self.name = 'Roti Lapis'\n",
    "\n",
    "        # Tetapkan self.price ke 5\n",
    "        self.price = 5\n",
    "\n",
    "    def info(self):\n",
    "        return self.name + ': $' + str(self.price)\n",
    "\n",
    "    def get_total_price(self, count):\n",
    "        total_price = self.price * count\n",
    "        return total_price\n",
    "\n",
    "\n",
    "menu_item1 = MenuItem()\n",
    "\n",
    "print(menu_item1.info())\n",
    "\n",
    "result = menu_item1.get_total_price(4)\n",
    "print('Total harga adalah $' + str(result))\n"
   ]
  },
  {
   "cell_type": "markdown",
   "metadata": {},
   "source": [
    "# Method __init__ Part 3"
   ]
  },
  {
   "cell_type": "code",
   "execution_count": 12,
   "metadata": {},
   "outputs": [
    {
     "name": "stdout",
     "output_type": "stream",
     "text": [
      "Roti Lapis: $5\n",
      "Total harga adalah $20\n"
     ]
    }
   ],
   "source": [
    "class MenuItem:\n",
    "    # Tambahkan parameter name dan price\n",
    "    def __init__(self, name, price):\n",
    "        # Gantikan 'Roti Lapis' ke parameter name\n",
    "        self.name = name\n",
    "\n",
    "        # Gantikan 5 ke parameter price\n",
    "        self.price = price\n",
    "\n",
    "    def info(self):\n",
    "        return self.name + ': $' + str(self.price)\n",
    "\n",
    "    def get_total_price(self, count):\n",
    "        total_price = self.price * count\n",
    "        return total_price\n",
    "\n",
    "\n",
    "# Tambahkan 'Roti Lapis' dan 5 sebagai argument\n",
    "menu_item1 = MenuItem('Roti Lapis', 5)\n",
    "\n",
    "print(menu_item1.info())\n",
    "\n",
    "result = menu_item1.get_total_price(4)\n",
    "print('Total harga adalah $' + str(result))\n"
   ]
  }
 ],
 "metadata": {
  "kernelspec": {
   "display_name": "Python 3",
   "language": "python",
   "name": "python3"
  },
  "language_info": {
   "codemirror_mode": {
    "name": "ipython",
    "version": 3
   },
   "file_extension": ".py",
   "mimetype": "text/x-python",
   "name": "python",
   "nbconvert_exporter": "python",
   "pygments_lexer": "ipython3",
   "version": "3.7.6"
  }
 },
 "nbformat": 4,
 "nbformat_minor": 4
}
